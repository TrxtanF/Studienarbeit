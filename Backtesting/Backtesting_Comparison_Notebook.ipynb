{
 "cells": [
  {
   "cell_type": "code",
   "execution_count": null,
   "id": "02c11d21",
   "metadata": {},
   "outputs": [],
   "source": [
    "import os\n",
    "import sys\n",
    "\n",
    "# Move up to the correct project root\n",
    "project_root = os.path.abspath(os.path.join(os.getcwd(), \"..\"))\n",
    "sys.path.append(project_root)\n",
    "\n",
    "print(\"Updated Python path:\", sys.path)  # Debugging check"
   ]
  },
  {
   "cell_type": "code",
   "execution_count": null,
   "id": "80cd9d1c",
   "metadata": {},
   "outputs": [],
   "source": [
    "import pandas as pd\n",
    "import matplotlib.pyplot as plt\n",
    "\n",
    "from Strategien.bollinger_strategy import run_bollinger_strategy\n",
    "from Strategien.momentum import run_momentum_strategy\n",
    "from Strategien.Moving_Average import run_moving_average_strategy\n",
    "from Strategien.Buy_and_Hold import run_buy_and_hold_strategy\n",
    "\n",
    "\n",
    "from RL_Backtest_Agents.DQN_Backtest import run_dqn_backtest_v1, compute_backtest_metrics\n",
    "from RL_Backtest_Agents.A2C_Backtest_v1 import run_a2c_backtest_v1\n",
    "#from RL_Backtest_Agents.A2C_Backtest_v2 import run_a2c_backtest_v2\n",
    "#from RL_Backtest_Agents.A2C_Backtest_v3 import run_a2c_backtest_v3\n",
    "#from RL_Backtest_Agents.A2C_Backtest_v4 import run_a2c_backtest_v4\n",
    "#from RL_Backtest_Agents.PPO_Backtest_v1 import run_ppo_backtest_v1\n",
    "#from RL_Backtest_Agents.PPO_Backtest_v2 import run_ppo_backtest_v2\n",
    "#from RL_Backtest_Agents.PPO_Backtest_v3 import run_ppo_backtest_v3\n",
    "#from RL_Backtest_Agents.PPO_Backtest_v4 import run_ppo_backtest_v4"
   ]
  },
  {
   "cell_type": "markdown",
   "id": "b025913e",
   "metadata": {},
   "source": [
    "# A2C Agenten vergleichen"
   ]
  },
  {
   "cell_type": "code",
   "execution_count": null,
   "id": "d1833a4f",
   "metadata": {},
   "outputs": [],
   "source": [
    "# Strategien ausführen\n",
    "a2c_result_v1 = run_a2c_backtest_v1()\n",
    "#a2c_result_v2 = run_a2c_backtest_v2()"
   ]
  },
  {
   "cell_type": "code",
   "execution_count": null,
   "id": "6c74d4d9",
   "metadata": {},
   "outputs": [],
   "source": [
    "# Portfolios extrahieren\n",
    "strategies = {\n",
    "    \"A2C Agent_v1\": a2c_result_v1[\"portfolio\"],\n",
    "    #\"A2C Agent_v2\": a2c_result_v2[\"portfolio\"]\n",
    "}\n",
    "\n",
    "plt.figure(figsize=(14, 6))\n",
    "for name, values in strategies.items():\n",
    "    plt.plot(values.index, values.values, label=name)\n",
    "plt.title(\"Portfolio Value Comparison\")\n",
    "plt.xlabel(\"Date\")\n",
    "plt.ylabel(\"Portfolio Value (€)\")\n",
    "plt.legend()\n",
    "plt.grid(True)\n",
    "plt.tight_layout()\n",
    "plt.show()"
   ]
  },
  {
   "cell_type": "markdown",
   "id": "aed16f5a",
   "metadata": {},
   "source": [
    "# PPO Agenten vergleichen"
   ]
  },
  {
   "cell_type": "code",
   "execution_count": null,
   "id": "8d3dfea5",
   "metadata": {},
   "outputs": [],
   "source": [
    "# Strategien ausführen\n",
    "ppo_result_v1 = run_ppo_backtest_v1()\n",
    "ppo_result_v2 = run_ppo_backtest_v2()\n",
    "ppo_result_v3 = run_ppo_backtest_v3()\n",
    "ppo_result_v4 = run_ppo_backtest_v4()"
   ]
  },
  {
   "cell_type": "code",
   "execution_count": null,
   "id": "4f2c7590",
   "metadata": {},
   "outputs": [],
   "source": [
    "# Portfolios extrahieren\n",
    "strategies = {\n",
    "    \"PPO Agent v1\": ppo_result_v1[\"portfolio\"],\n",
    "    \"PPO Agent v2\": ppo_result_v2[\"portfolio\"],\n",
    "    \"PPO Agent v3\": ppo_result_v3[\"portfolio\"],\n",
    "    \"PPO Agent v4\": ppo_result_v4[\"portfolio\"]\n",
    "}\n",
    "\n",
    "plt.figure(figsize=(14, 6))\n",
    "for name, values in strategies.items():\n",
    "    plt.plot(values.index, values.values, label=name)\n",
    "plt.title(\"Portfolio Value Comparison\")\n",
    "plt.xlabel(\"Date\")\n",
    "plt.ylabel(\"Portfolio Value (€)\")\n",
    "plt.legend()\n",
    "plt.grid(True)\n",
    "plt.tight_layout()\n",
    "plt.show()"
   ]
  },
  {
   "cell_type": "markdown",
   "id": "aba957da",
   "metadata": {},
   "source": [
    "# Strategien ausführen für beste Agenten und Strategien"
   ]
  },
  {
   "cell_type": "code",
   "execution_count": null,
   "id": "bd195486",
   "metadata": {},
   "outputs": [],
   "source": [
    "# Strategien ausführen\n",
    "ma_result = run_moving_average_strategy()\n",
    "bollinger_result = run_bollinger_strategy()\n",
    "momentum_result = run_momentum_strategy()\n",
    "#dqn_result = run_dqn_backtest()\n",
    "bh_result = run_buy_and_hold_strategy()\n",
    "\n",
    "#a2c_result = run_a2c_backtest()\n",
    "ppo_result1 = run_ppo_backtest_v1()\n",
    "ppo_result2 = run_ppo_backtest_v2()\n",
    "ppo_result3 = run_ppo_backtest_v3()\n",
    "ppo_result4 = run_ppo_backtest_v4()"
   ]
  },
  {
   "cell_type": "code",
   "execution_count": null,
   "id": "c1dd96a0",
   "metadata": {},
   "outputs": [],
   "source": [
    "# Portfolios extrahieren\n",
    "strategies = {\n",
    "    \"Moving Average\": ma_result[\"portfolio\"],\n",
    "    \"Bollinger Bands\": bollinger_result[\"portfolio\"],\n",
    "    \"Momentum\": momentum_result[\"portfolio\"],\n",
    "    \"Buy & Hold\": bh_result[\"portfolio\"],\n",
    "    #\"DQN Agent\": dqn_result[\"portfolio\"],\n",
    "    \"A2C Agent v1\": a2c_result_v1[\"portfolio\"],\n",
    "    #\"PPO Agent v1\": ppo_result1[\"portfolio\"],\n",
    "    #\"PPO Agent v2\": ppo_result2[\"portfolio\"],\n",
    "    #\"PPO Agent v3\": ppo_result3[\"portfolio\"],\n",
    "    #\"PPO Agent v4\": ppo_result4[\"portfolio\"],\n",
    "}"
   ]
  },
  {
   "cell_type": "markdown",
   "id": "b86f76d3",
   "metadata": {},
   "source": [
    "Portfoliowerte vergleichen "
   ]
  },
  {
   "cell_type": "code",
   "execution_count": null,
   "id": "9a937df1",
   "metadata": {},
   "outputs": [],
   "source": [
    "plt.figure(figsize=(14, 6))\n",
    "for name, values in strategies.items():\n",
    "    plt.plot(values.index, values.values, label=name)\n",
    "plt.title(\"Portfolio Value Comparison\")\n",
    "plt.xlabel(\"Date\")\n",
    "plt.ylabel(\"Portfolio Value (€)\")\n",
    "plt.legend()\n",
    "plt.grid(True)\n",
    "plt.tight_layout()\n",
    "plt.show()\n"
   ]
  },
  {
   "cell_type": "markdown",
   "id": "1dccedd5",
   "metadata": {},
   "source": [
    "Metriken Vergleichen"
   ]
  },
  {
   "cell_type": "code",
   "execution_count": null,
   "id": "3de31948",
   "metadata": {},
   "outputs": [],
   "source": [
    "results = {}\n",
    "for name, values in strategies.items():\n",
    "    metrics = compute_backtest_metrics(values)\n",
    "    results[name] = metrics\n",
    "\n",
    "pd.DataFrame(results).T.round(4)\n"
   ]
  }
 ],
 "metadata": {
  "kernelspec": {
   "display_name": "Python 3",
   "language": "python",
   "name": "python3"
  },
  "language_info": {
   "codemirror_mode": {
    "name": "ipython",
    "version": 3
   },
   "file_extension": ".py",
   "mimetype": "text/x-python",
   "name": "python",
   "nbconvert_exporter": "python",
   "pygments_lexer": "ipython3",
   "version": "3.11.5"
  }
 },
 "nbformat": 4,
 "nbformat_minor": 5
}
