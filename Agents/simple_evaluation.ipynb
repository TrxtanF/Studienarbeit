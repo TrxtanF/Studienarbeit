{
 "cells": [
  {
   "cell_type": "code",
   "execution_count": null,
   "metadata": {},
   "outputs": [],
   "source": [
    "%run ../Environment/environment_withPortfolio.ipynb\n",
    "%run ../Environment/environment_withoutPortfolio.ipynb"
   ]
  },
  {
   "cell_type": "markdown",
   "metadata": {},
   "source": [
    "# 1. Bibliotheken importieren"
   ]
  },
  {
   "cell_type": "code",
   "execution_count": null,
   "metadata": {},
   "outputs": [],
   "source": [
    "from stable_baselines3 import PPO, A2C, DQN"
   ]
  },
  {
   "cell_type": "markdown",
   "metadata": {},
   "source": [
    "# 2. Seed setzen"
   ]
  },
  {
   "cell_type": "code",
   "execution_count": null,
   "metadata": {},
   "outputs": [],
   "source": [
    "seed = 42\n",
    "SEED  = seed % (2**32 - 1)\n",
    "print(f\"SEED: {SEED}\")\n",
    "\n",
    "INITIAL_CASH = 1\n",
    "\n",
    "WINDOW_SIZE = 336\n",
    "\n",
    "SCALER_PATH = \"../Transform_data/scaler.pkl\"\n",
    "\n",
    "TradingEnv = TradingEnv_withPortfolio\n",
    "#TradingEnv = TradingEnv_withoutPortfolio"
   ]
  },
  {
   "cell_type": "markdown",
   "metadata": {},
   "source": [
    "# 3. Daten einlesen"
   ]
  },
  {
   "cell_type": "code",
   "execution_count": null,
   "metadata": {},
   "outputs": [],
   "source": [
    "# -------------------------------\n",
    "# CSV Datem einlesen\n",
    "# -------------------------------\n",
    "train_data = pd.read_csv(\"../Transform_data/stand_data/2023-2018_stand_data.csv\")\n",
    "train_data.drop('datetime', axis=1, inplace=True)\n",
    "\n",
    "test_data = pd.read_csv(\"../Transform_data/stand_data/2025-2024_stand_data.csv\")\n",
    "test_data.drop('datetime', axis=1, inplace=True)\n",
    "\n",
    "if(train_data is not None and test_data is not None):\n",
    "    print(\"Daten erfolgreich eingelesen\")"
   ]
  },
  {
   "cell_type": "markdown",
   "metadata": {},
   "source": [
    "# 4. RL Modell laden"
   ]
  },
  {
   "cell_type": "code",
   "execution_count": null,
   "metadata": {},
   "outputs": [],
   "source": [
    "A2C_model = PPO.load(\"A2C/a2c_trading_model.zip\")\n",
    "#DQN_model = PPO.load(\"DQN/dqn_trading_model.zip\")\n",
    "PPO_model = PPO.load(\"PPO/Test.zip\")\n",
    "\n",
    "model = PPO_model"
   ]
  },
  {
   "cell_type": "markdown",
   "metadata": {},
   "source": [
    "# 5. Umgebungen erstellen"
   ]
  },
  {
   "cell_type": "code",
   "execution_count": null,
   "metadata": {},
   "outputs": [],
   "source": [
    "train_env = TradingEnv(\n",
    "        data=train_data,\n",
    "        initial_cash=INITIAL_CASH,\n",
    "        window_size=WINDOW_SIZE,\n",
    "        scaler_path=SCALER_PATH,\n",
    "        default_seed=SEED\n",
    "    )"
   ]
  },
  {
   "cell_type": "code",
   "execution_count": null,
   "metadata": {},
   "outputs": [],
   "source": [
    "test_env = TradingEnv(\n",
    "        data=test_data,\n",
    "        initial_cash=INITIAL_CASH,\n",
    "        window_size=WINDOW_SIZE,\n",
    "        scaler_path=SCALER_PATH,\n",
    "        default_seed=SEED\n",
    "    )"
   ]
  },
  {
   "cell_type": "markdown",
   "metadata": {},
   "source": [
    "# 6. Hilfsfunktion für Performance Auswertung"
   ]
  },
  {
   "cell_type": "code",
   "execution_count": null,
   "metadata": {},
   "outputs": [],
   "source": [
    "def simulate_episode(env, model, seed=42, render_mode='human', print_preview=True):\n",
    "    \"\"\"\n",
    "    Führt eine Episode in der angegebenen Umgebung mit dem gegebenen Modell aus.\n",
    "\n",
    "    Parameter:\n",
    "    - env: Die Umgebung (z. B. train_env, test_env, random_env)\n",
    "    - model: Das trainierte RL-Modell mit .predict()-Methode\n",
    "    - seed (int): Seed für den Reset der Umgebung\n",
    "    - render_mode (str): Wie die Umgebung gerendert werden soll (z. B. 'human')\n",
    "    - print_preview (bool): Gibt die ersten 200 Aktionen aus, wenn True\n",
    "\n",
    "    Rückgabewert:\n",
    "    - action_list (List[int]): Liste aller gewählten Aktionen in der Episode\n",
    "    - observation_list (List[np.ndarray]): Liste aller Beobachtungsfenster\n",
    "    \"\"\"\n",
    "    obs, info = env.reset(seed=seed)\n",
    "    done = False\n",
    "    action_list = []\n",
    "    observation_list = []\n",
    "\n",
    "    while not done:\n",
    "        observation_list.append(obs.copy())  # wichtig: Kopie speichern!\n",
    "        action, _ = model.predict(obs, deterministic=True)\n",
    "        action = int(action)  # falls notwendig\n",
    "        obs, reward, done, truncated, info = env.step(action)\n",
    "        action_list.append(action)\n",
    "\n",
    "    env.render(mode=render_mode)\n",
    "\n",
    "    if print_preview:\n",
    "        print(\"Erste 200 Aktionen:\", action_list[:200])\n",
    "\n",
    "    return action_list, observation_list"
   ]
  },
  {
   "cell_type": "markdown",
   "metadata": {},
   "source": [
    "# 7. Performance auf gesehenen Daten"
   ]
  },
  {
   "cell_type": "code",
   "execution_count": null,
   "metadata": {},
   "outputs": [],
   "source": [
    "train_actions, train_observations = simulate_episode(train_env, model, seed=SEED)"
   ]
  },
  {
   "cell_type": "markdown",
   "metadata": {},
   "source": [
    "# 8. Performance auf ungesehenen Daten"
   ]
  },
  {
   "cell_type": "code",
   "execution_count": null,
   "metadata": {},
   "outputs": [],
   "source": [
    "test_actions, test_observations = simulate_episode(test_env, model, seed=SEED)"
   ]
  },
  {
   "cell_type": "code",
   "execution_count": null,
   "metadata": {},
   "outputs": [],
   "source": [
    "raise Exception(\"Bewusst\")"
   ]
  },
  {
   "cell_type": "markdown",
   "metadata": {},
   "source": [
    "# 9. Vergleich der Aktionen und Beobachtungen"
   ]
  },
  {
   "cell_type": "code",
   "execution_count": null,
   "metadata": {},
   "outputs": [],
   "source": [
    "import pandas as pd\n",
    "\n",
    "def compare_actionlists(list1, list2):\n",
    "    \"\"\"\n",
    "    Vergleicht zwei Listen bis zur kürzeren Länge und gibt alle Unterschiede als DataFrame zurück.\n",
    "    Gibt bei ungleicher Länge eine kurze Info aus.\n",
    "\n",
    "    Rückgabewert:\n",
    "    - Pandas DataFrame mit Spalten: 'Index', 'List1', 'List2'\n",
    "    \"\"\"\n",
    "    min_len = min(len(list1), len(list2))\n",
    "    differences = []\n",
    "\n",
    "    for i in range(min_len):\n",
    "        if list1[i] != list2[i]:\n",
    "            differences.append({\"Index\": i, \"List1\": list1[i], \"List2\": list2[i]})\n",
    "\n",
    "    if len(list1) != len(list2):\n",
    "        print(f\"⚠️ Unterschiedliche Längen: List1 = {len(list1)}, List2 = {len(list2)}\")\n",
    "    \n",
    "    if differences:\n",
    "        print(f\"❌ {len(differences)} Unterschiede innerhalb der ersten {min_len} Elemente gefunden.\")\n",
    "    else:\n",
    "        print(\"✅ Die beiden Listen sind in den ersten\", min_len, \"Elementen identisch.\")\n",
    "    \n",
    "    return pd.DataFrame(differences)"
   ]
  },
  {
   "cell_type": "code",
   "execution_count": null,
   "metadata": {},
   "outputs": [],
   "source": [
    "import numpy as np\n",
    "\n",
    "def compare_observations(obs_list_1, obs_list_2, tolerance=1e-6):\n",
    "    \"\"\"\n",
    "    Vergleicht zwei Listen von Beobachtungen (np.ndarrays) und berechnet,\n",
    "    wie viele der Beobachtungen exakt bzw. nahezu gleich sind.\n",
    "\n",
    "    Parameter:\n",
    "    - obs_list_1, obs_list_2: Zwei Listen von Beobachtungsarrays\n",
    "    - tolerance: Zulässige numerische Abweichung für Gleichheit (float)\n",
    "\n",
    "    Rückgabe:\n",
    "    - matching_ratio: Anteil der übereinstimmenden Beobachtungen (0.0–1.0)\n",
    "    \"\"\"\n",
    "    min_len = min(len(obs_list_1), len(obs_list_2))\n",
    "    match_count = 0\n",
    "    mismatch_indices = []\n",
    "\n",
    "    for i in range(min_len):\n",
    "        if obs_list_1[i].shape != obs_list_2[i].shape:\n",
    "            mismatch_indices.append(i)\n",
    "            continue\n",
    "\n",
    "        if np.allclose(obs_list_1[i], obs_list_2[i], atol=tolerance):\n",
    "            match_count += 1\n",
    "        else:\n",
    "            mismatch_indices.append(i)\n",
    "\n",
    "    matching_ratio = match_count / min_len\n",
    "    print(f\"{match_count} von {min_len} Beobachtungen sind gleich ({matching_ratio*100:.2f} %)\")\n",
    "    if mismatch_indices:\n",
    "        print(f\"Unterschied bei Indizes: {mismatch_indices[:10]}{' ...' if len(mismatch_indices) > 10 else ''}\")\n",
    "\n",
    "    return matching_ratio"
   ]
  },
  {
   "cell_type": "code",
   "execution_count": null,
   "metadata": {},
   "outputs": [],
   "source": [
    "compare_actionlists(train_actions, test_actions)"
   ]
  },
  {
   "cell_type": "code",
   "execution_count": null,
   "metadata": {},
   "outputs": [],
   "source": [
    "compare_observations(train_observations, test_observations)"
   ]
  },
  {
   "cell_type": "code",
   "execution_count": null,
   "metadata": {},
   "outputs": [],
   "source": [
    "import numpy as np\n",
    "import matplotlib.pyplot as plt\n",
    "from sklearn.metrics.pairwise import cosine_similarity\n",
    "\n",
    "def plot_similarity_sample(obs_array, sample_size=1000, seed=42):\n",
    "    \"\"\"\n",
    "    Visualisiert die Ähnlichkeit eines zufälligen Ausschnitts von Beobachtungen.\n",
    "\n",
    "    Parameters:\n",
    "    - obs_array: 2D-Array mit flachen Beobachtungen (z. B. (n_steps, window_size*features))\n",
    "    - sample_size: Anzahl der zu vergleichenden Beobachtungen\n",
    "    - seed: für Reproduzierbarkeit\n",
    "    \"\"\"\n",
    "    np.random.seed(seed)\n",
    "    total = obs_array.shape[0]\n",
    "    indices = np.random.choice(total, size=min(sample_size, total), replace=False)\n",
    "    sampled_obs = obs_array[indices]\n",
    "\n",
    "    similarity_matrix = cosine_similarity(sampled_obs)\n",
    "\n",
    "    plt.figure(figsize=(10, 8))\n",
    "    plt.imshow(similarity_matrix, cmap='viridis', aspect='auto')\n",
    "    plt.colorbar(label=\"Kosinus-Ähnlichkeit\")\n",
    "    plt.title(f\"Ähnlichkeit zwischen {len(indices)} Beobachtungen\")\n",
    "    plt.xlabel(\"Index\")\n",
    "    plt.ylabel(\"Index\")\n",
    "    plt.show()\n"
   ]
  },
  {
   "cell_type": "code",
   "execution_count": null,
   "metadata": {},
   "outputs": [],
   "source": [
    "obs_vectors = [obs.flatten() for obs in train_observations]\n",
    "obs_array = np.array(obs_vectors)\n",
    "\n",
    "plot_similarity_sample(obs_array, sample_size=5000)"
   ]
  },
  {
   "cell_type": "code",
   "execution_count": null,
   "metadata": {},
   "outputs": [],
   "source": [
    "plt.imshow(obs_array[:10000], aspect='auto', cmap='coolwarm')\n",
    "plt.colorbar()\n",
    "plt.title(\"Werte in den ersten 1000 Beobachtungen\")\n",
    "plt.show()"
   ]
  },
  {
   "cell_type": "code",
   "execution_count": null,
   "metadata": {},
   "outputs": [],
   "source": [
    "import numpy as np\n",
    "import matplotlib.pyplot as plt\n",
    "\n",
    "def plot_feature_variance(obs_list):\n",
    "    \"\"\"\n",
    "    Zeigt die Standardabweichung pro Feature-Spalte über alle Beobachtungen.\n",
    "    \"\"\"\n",
    "    obs_array = np.array([obs.flatten() for obs in obs_list])\n",
    "    stds = np.std(obs_array, axis=0)\n",
    "\n",
    "    plt.figure(figsize=(120, 4))\n",
    "    plt.plot(stds)\n",
    "    plt.title(\"Standardabweichung pro Feature-Spalte\")\n",
    "    plt.xlabel(\"Feature-Index\")\n",
    "    plt.ylabel(\"Standardabweichung\")\n",
    "    plt.grid(True)\n",
    "    plt.show()\n",
    "\n",
    "    low_var_features = np.sum(stds < 1e-3)\n",
    "    print(f\"{low_var_features} von {len(stds)} Features haben quasi keine Varianz (σ < 0.001).\")\n",
    "\n",
    "plot_feature_variance(obs_array)"
   ]
  }
 ],
 "metadata": {
  "kernelspec": {
   "display_name": "Python 3",
   "language": "python",
   "name": "python3"
  },
  "language_info": {
   "codemirror_mode": {
    "name": "ipython",
    "version": 3
   },
   "file_extension": ".py",
   "mimetype": "text/x-python",
   "name": "python",
   "nbconvert_exporter": "python",
   "pygments_lexer": "ipython3",
   "version": "3.11.5"
  }
 },
 "nbformat": 4,
 "nbformat_minor": 2
}
