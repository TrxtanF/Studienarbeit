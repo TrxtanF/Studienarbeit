{
 "cells": [
  {
   "cell_type": "code",
   "execution_count": null,
   "metadata": {},
   "outputs": [],
   "source": [
    "import subprocess\n",
    "import sys\n",
    "import importlib\n",
    "\n",
    "# Mapping: pip-Paketname → import-Name\n",
    "required_packages = {\n",
    "    \"gymnasium\": \"gymnasium\",\n",
    "    \"numpy\": \"numpy\",\n",
    "    \"pandas\": \"pandas\",\n",
    "    \"joblib\": \"joblib\",\n",
    "    \"scikit-learn\": \"sklearn\",\n",
    "    \"matplotlib\": \"matplotlib\",\n",
    "    \"stable-baselines3\": \"stable_baselines3\",\n",
    "    \"torch\": \"torch\",\n",
    "    \"torchvision\": \"torchvision\",\n",
    "    \"torchaudio\": \"torchaudio\",\n",
    "    \"optuna\": \"optuna\",\n",
    "    \"yfinance\": \"yfinance\",\n",
    "    \"ta\": \"ta\"\n",
    "}\n",
    "\n",
    "def install_packages(package_dict):\n",
    "    for pip_name, import_name in package_dict.items():\n",
    "        try:\n",
    "            importlib.import_module(import_name)\n",
    "        except ImportError:\n",
    "            print(f\"📦 Installiere {pip_name} ...\")\n",
    "            subprocess.check_call([sys.executable, \"-m\", \"pip\", \"install\", pip_name])\n",
    "\n",
    "# 🚀 Start Installation\n",
    "install_packages(required_packages)\n"
   ]
  }
 ],
 "metadata": {
  "kernelspec": {
   "display_name": "Python 3",
   "language": "python",
   "name": "python3"
  },
  "language_info": {
   "name": "python",
   "version": "3.11.5"
  }
 },
 "nbformat": 4,
 "nbformat_minor": 2
}
